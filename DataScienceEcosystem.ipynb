{
 "cells": [
  {
   "cell_type": "markdown",
   "id": "23aab93d-4b1b-4a85-b03b-7d8ff2b5c976",
   "metadata": {},
   "source": [
    "# Data Science Tools and Ecosystem"
   ]
  },
  {
   "cell_type": "markdown",
   "id": "cc179610-12b9-4d70-9df5-6ef3f3cbb28f",
   "metadata": {},
   "source": [
    "In this Notebook, Data Science Tools and Ecosystem are summarized."
   ]
  },
  {
   "cell_type": "markdown",
   "id": "1deb68ce-01b8-4333-8735-6adf0184fae8",
   "metadata": {},
   "source": [
    "**Objectives:**\n",
    "- List popular programming languages for Data Science\n",
    "- List some of the commonly used libraries for Data Science\n",
    "- Show some of the most used development enviroments in Data Science\n",
    "- Show how to evaluate simple arithmetic expressions in Python\n"
   ]
  },
  {
   "cell_type": "markdown",
   "id": "1e071cb2-1605-4a9d-9cd5-a9370eae8177",
   "metadata": {},
   "source": [
    "Some of the popular languages that Data Scientists use are:\n",
    "1. Python\n",
    "2. Julia\n",
    "3. R\n",
    "4. SQL\n"
   ]
  },
  {
   "cell_type": "markdown",
   "id": "072dd5fb-4604-4c45-82c4-563f5581e3a3",
   "metadata": {},
   "source": [
    "Some of the commonly used libraries used by Data Scientists include:\n",
    "1. Pandas (Python)\n",
    "2. Numpy (Python)\n",
    "3. Matplotlib (Python)\n",
    "4. ggplot (R)\n",
    "5. caret (R)"
   ]
  },
  {
   "cell_type": "markdown",
   "id": "1dd28a11-46b7-466e-a6a9-492669621dc6",
   "metadata": {},
   "source": [
    "|Data Science Tools|\n",
    "|------------------|\n",
    "|Jupyter Notebook|\n",
    "|Jupyter Lab|\n",
    "|RStudio|\n",
    "|VS Code|"
   ]
  },
  {
   "cell_type": "markdown",
   "id": "b91b3cbe-702e-4b36-847e-b54ece5f4547",
   "metadata": {},
   "source": [
    "### Below are a few examples of evaluating arithmetic expressions in Python\n"
   ]
  },
  {
   "cell_type": "code",
   "execution_count": 1,
   "id": "275cd980-1e9e-4aae-b157-9b00659f6072",
   "metadata": {},
   "outputs": [
    {
     "data": {
      "text/plain": [
       "17"
      ]
     },
     "execution_count": 1,
     "metadata": {},
     "output_type": "execute_result"
    }
   ],
   "source": [
    "# This is a simple arithmetic expression in which the numbers inside the parentheses are multiplied and then an integer is added.\n",
    "(3*4)+5"
   ]
  },
  {
   "cell_type": "code",
   "execution_count": 2,
   "id": "6c01a121-ebc0-4a88-af26-f43b4de8fc08",
   "metadata": {},
   "outputs": [
    {
     "data": {
      "text/plain": [
       "3.3333333333333335"
      ]
     },
     "execution_count": 2,
     "metadata": {},
     "output_type": "execute_result"
    }
   ],
   "source": [
    "# The folowing operation converts an time intervale given in minutes (200 minutes) to hours by dividing by 60\n",
    "200/60"
   ]
  },
  {
   "cell_type": "markdown",
   "id": "31718440-2c0e-4abb-b068-0af5eb5e7c50",
   "metadata": {},
   "source": [
    "## Author\n",
    "Carlos Andrés Mayorga Lozada"
   ]
  },
  {
   "cell_type": "code",
   "execution_count": null,
   "id": "1017ebe9-1461-4398-ae9f-d626f0c4d355",
   "metadata": {},
   "outputs": [],
   "source": []
  }
 ],
 "metadata": {
  "kernelspec": {
   "display_name": "Python 3 (ipykernel)",
   "language": "python",
   "name": "python3"
  },
  "language_info": {
   "codemirror_mode": {
    "name": "ipython",
    "version": 3
   },
   "file_extension": ".py",
   "mimetype": "text/x-python",
   "name": "python",
   "nbconvert_exporter": "python",
   "pygments_lexer": "ipython3",
   "version": "3.12.8"
  }
 },
 "nbformat": 4,
 "nbformat_minor": 5
}
